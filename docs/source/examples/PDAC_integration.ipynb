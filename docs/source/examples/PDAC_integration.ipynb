{
 "cells": [
  {
   "cell_type": "markdown",
   "id": "66afdecb",
   "metadata": {},
   "source": [
    "# Integrate microarray-based spatial transcriptomics with scRNA\n",
    "\n",
    "uniPort can output a global optimal transport (OT) plan, i.e., a cell-cell correspondence matrix, that provides flexible transfer learning for deconvolution of spatial heterogeneous data using scRNA data in OT space, instead of embedding latent space. "
   ]
  },
  {
   "cell_type": "code",
   "execution_count": 1,
   "id": "dfa93ef7",
   "metadata": {},
   "outputs": [],
   "source": [
    "import uniport as up\n",
    "import scanpy as sc\n",
    "import pandas as pd"
   ]
  },
  {
   "cell_type": "markdown",
   "id": "bbbb619c",
   "metadata": {},
   "source": [
    "Read microarray-based ST data of pancreatic ductal adenocarcinoma (PDAC) tissues for integration, the diameter of which stretches for 100 μm. Cell-type deconvolution was applied on 428 spots paired with 1926 single cells, measuring 19,736 genes respectively."
   ]
  },
  {
   "cell_type": "code",
   "execution_count": 2,
   "id": "77ed8137",
   "metadata": {},
   "outputs": [
    {
     "name": "stdout",
     "output_type": "stream",
     "text": [
      "['Acinar cells' 'Ductal' 'Ductal' ... 'Ductal' 'pDCs' 'RBCs']\n"
     ]
    }
   ],
   "source": [
    "labels_rna = pd.read_csv('PDAC_scRNA_label.txt', sep='\\t')\n",
    "celltype = labels_rna['cell_type'].values\n",
    "print(celltype)"
   ]
  },
  {
   "cell_type": "code",
   "execution_count": 3,
   "id": "b59f8172",
   "metadata": {},
   "outputs": [],
   "source": [
    "rna = sc.read('PDAC_scRNA.txt').transpose()\n",
    "spot = up.load_file('PDAC_SPOT.txt')"
   ]
  },
  {
   "cell_type": "markdown",
   "id": "cba0d20d",
   "metadata": {},
   "source": [
    "Add *domain_id*, *cell_type* and *source* obs to AnnData."
   ]
  },
  {
   "cell_type": "code",
   "execution_count": 4,
   "id": "5aa57da4",
   "metadata": {},
   "outputs": [],
   "source": [
    "spot.obs['domain_id'] = 0\n",
    "spot.obs['domain_id'] = spot.obs['domain_id'].astype('category')\n",
    "spot.obs['source'] = 'SPOT'\n",
    "\n",
    "rna.obs['cell_type'] = celltype\n",
    "rna.obs['domain_id'] = 1\n",
    "rna.obs['domain_id'] = rna.obs['domain_id'].astype('category')\n",
    "rna.obs['source'] = 'RNA'"
   ]
  },
  {
   "cell_type": "markdown",
   "id": "8514ea34",
   "metadata": {},
   "source": [
    "Concatenate SPOT and scRNA-seq with common genes using `AnnData.concatenate`."
   ]
  },
  {
   "cell_type": "code",
   "execution_count": 5,
   "id": "81fae022",
   "metadata": {},
   "outputs": [],
   "source": [
    "adata_cm = spot.concatenate(rna, join='inner', batch_key='domain_id')"
   ]
  },
  {
   "cell_type": "markdown",
   "id": "a57f422d",
   "metadata": {},
   "source": [
    "Preprocess data with common genes. Select 2,000 highly variable common genes. \\\n",
    "Scale data using `batch_scale` function in uniport (modified from [SCALEX](https://scalex.readthedocs.io/en/latest/api/index.html#preprocessing))."
   ]
  },
  {
   "cell_type": "code",
   "execution_count": 6,
   "id": "df734388",
   "metadata": {},
   "outputs": [
    {
     "name": "stderr",
     "output_type": "stream",
     "text": [
      "... storing 'source' as categorical\n",
      "... storing 'cell_type' as categorical\n"
     ]
    }
   ],
   "source": [
    "sc.pp.normalize_total(adata_cm)\n",
    "sc.pp.log1p(adata_cm)\n",
    "sc.pp.highly_variable_genes(adata_cm, n_top_genes=2000, batch_key='domain_id', inplace=False, subset=True)\n",
    "up.batch_scale(adata_cm)"
   ]
  },
  {
   "cell_type": "markdown",
   "id": "1e451a7b",
   "metadata": {},
   "source": [
    "Preprocess SPOT data. Select 2,000 highly variable genes as SPOT speicifc."
   ]
  },
  {
   "cell_type": "code",
   "execution_count": 7,
   "id": "b9abe70a",
   "metadata": {},
   "outputs": [],
   "source": [
    "sc.pp.normalize_total(spot)\n",
    "sc.pp.log1p(spot)\n",
    "sc.pp.highly_variable_genes(spot, n_top_genes=2000, inplace=False, subset=True)\n",
    "up.batch_scale(spot)"
   ]
  },
  {
   "cell_type": "markdown",
   "id": "e0d69881",
   "metadata": {},
   "source": [
    "Preprocess scRNA-seq data. Select 2,000 highly variable genes as RNA specific."
   ]
  },
  {
   "cell_type": "code",
   "execution_count": 8,
   "id": "b2b5dcce",
   "metadata": {},
   "outputs": [],
   "source": [
    "sc.pp.normalize_total(rna)\n",
    "sc.pp.log1p(rna)\n",
    "sc.pp.highly_variable_genes(rna, n_top_genes=2000, inplace=False, subset=True)\n",
    "up.batch_scale(rna)"
   ]
  },
  {
   "cell_type": "markdown",
   "id": "4c7967b8",
   "metadata": {},
   "source": [
    "Integrate the SPOT and scRNA-seq data using both common and dataset-specific genes by `Run` function in uniport. Set *save_OT=True* and return a OT plan, which is a SPOT by RNA probabilistic matching matrix."
   ]
  },
  {
   "cell_type": "code",
   "execution_count": 9,
   "id": "4130fb50",
   "metadata": {},
   "outputs": [
    {
     "name": "stdout",
     "output_type": "stream",
     "text": [
      "Dataset 0: SPOT\n",
      "AnnData object with n_obs × n_vars = 428 × 2000\n",
      "    obs: 'domain_id', 'source'\n",
      "    var: 'highly_variable', 'means', 'dispersions', 'dispersions_norm'\n",
      "    uns: 'log1p', 'hvg'\n",
      "Dataset 1: RNA\n",
      "AnnData object with n_obs × n_vars = 1926 × 2000\n",
      "    obs: 'cell_type', 'domain_id', 'source'\n",
      "    var: 'highly_variable', 'means', 'dispersions', 'dispersions_norm'\n",
      "    uns: 'log1p', 'hvg'\n",
      "Reference dataset is dataset 1\n",
      "\n",
      "\n",
      "Data with common HVG\n",
      "AnnData object with n_obs × n_vars = 2354 × 2000\n",
      "    obs: 'domain_id', 'source', 'cell_type'\n",
      "    var: 'highly_variable', 'means', 'dispersions', 'dispersions_norm', 'highly_variable_nbatches', 'highly_variable_intersection'\n",
      "    uns: 'log1p', 'hvg'\n",
      "\n",
      "\n",
      "Warning! Saving Optimal Transport plan needs extra 0.01 GB memory, please set save_OT=False if no enough memory!\n",
      "float32\n",
      "Size of transport plan between datasets 0 and 1: (428, 1926)\n"
     ]
    },
    {
     "name": "stderr",
     "output_type": "stream",
     "text": [
      "Epochs:  77%|████████████████▊     | 2554/3334 [24:20<07:26,  1.75it/s, recloss=358.15,klloss=6.82,otloss=8.00]\n"
     ]
    },
    {
     "name": "stdout",
     "output_type": "stream",
     "text": [
      "EarlyStopping: run 2555 epoch\n"
     ]
    }
   ],
   "source": [
    "adata, OT = up.Run(adatas=[spot,rna], adata_cm=adata_cm, save_OT=True)"
   ]
  },
  {
   "cell_type": "markdown",
   "id": "8b1105ba",
   "metadata": {},
   "source": [
    "Save OT plan for deconvolution."
   ]
  },
  {
   "cell_type": "code",
   "execution_count": 10,
   "id": "f0353240",
   "metadata": {},
   "outputs": [],
   "source": [
    "name_idx = adata_cm[adata_cm.obs['source']=='SPOT'].obs_names\n",
    "name_col = adata_cm[adata_cm.obs['source']=='RNA'].obs_names\n",
    "OT_pd = pd.DataFrame(OT[0], index=name_idx, columns=name_col)\n",
    "OT_pd.to_csv('OT_PDAC_LF.txt', sep='\\t')"
   ]
  }
 ],
 "metadata": {
  "kernelspec": {
   "display_name": "Python 3 (ipykernel)",
   "language": "python",
   "name": "python3"
  },
  "language_info": {
   "codemirror_mode": {
    "name": "ipython",
    "version": 3
   },
   "file_extension": ".py",
   "mimetype": "text/x-python",
   "name": "python",
   "nbconvert_exporter": "python",
   "pygments_lexer": "ipython3",
   "version": "3.8.13"
  }
 },
 "nbformat": 4,
 "nbformat_minor": 5
}
