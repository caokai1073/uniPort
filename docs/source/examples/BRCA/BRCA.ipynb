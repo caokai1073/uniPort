{
 "cells": [
  {
   "cell_type": "code",
   "execution_count": 1,
   "id": "223ef5b8",
   "metadata": {},
   "outputs": [],
   "source": [
    "import uniport as up\n",
    "import scanpy as sc\n",
    "import pandas as pd"
   ]
  },
  {
   "cell_type": "code",
   "execution_count": 2,
   "id": "1eb41a82",
   "metadata": {},
   "outputs": [
    {
     "name": "stdout",
     "output_type": "stream",
     "text": [
      "['Endothelial' 'Endothelial' 'Endothelial' ... 'Myeloid' 'Myeloid'\n",
      " 'Myeloid']\n"
     ]
    }
   ],
   "source": [
    "labels_rna = pd.read_csv('Whole_miniatlas_meta.csv', sep=',')\n",
    "celltype = labels_rna['celltype_major'].values\n",
    "print(celltype)"
   ]
  },
  {
   "cell_type": "code",
   "execution_count": 3,
   "id": "1db8a594",
   "metadata": {},
   "outputs": [],
   "source": [
    "# RNA = sc.read_10x_mtx('sc/')\n",
    "# RNA.write('RNA.h5ad', compression='gzip')\n",
    "rna = sc.read('RNA.h5ad')\n",
    "spot = up.load_file('BRCA_SPOT_Count.txt')"
   ]
  },
  {
   "cell_type": "code",
   "execution_count": 4,
   "id": "cfdb0ca3",
   "metadata": {},
   "outputs": [],
   "source": [
    "spot.obs['domain_id'] = 0\n",
    "spot.obs['domain_id'] = spot.obs['domain_id'].astype('category')\n",
    "spot.obs['source'] = 'SPOT'\n",
    "\n",
    "rna.obs['cell_type'] = celltype\n",
    "rna.obs['domain_id'] = 1\n",
    "rna.obs['domain_id'] = rna.obs['domain_id'].astype('category')\n",
    "rna.obs['source'] = 'RNA'"
   ]
  },
  {
   "cell_type": "code",
   "execution_count": 5,
   "id": "2f6d2d5e",
   "metadata": {},
   "outputs": [],
   "source": [
    "adata_cm = spot.concatenate(rna, join='inner', batch_key='domain_id')"
   ]
  },
  {
   "cell_type": "code",
   "execution_count": 6,
   "id": "d9987f71",
   "metadata": {},
   "outputs": [
    {
     "name": "stderr",
     "output_type": "stream",
     "text": [
      "... storing 'source' as categorical\n",
      "... storing 'cell_type' as categorical\n"
     ]
    },
    {
     "name": "stdout",
     "output_type": "stream",
     "text": [
      "AnnData object with n_obs × n_vars = 102582 × 2000\n",
      "    obs: 'domain_id', 'source', 'cell_type'\n",
      "    var: 'gene_ids-1', 'feature_types-1', 'highly_variable', 'means', 'dispersions', 'dispersions_norm', 'highly_variable_nbatches', 'highly_variable_intersection'\n",
      "    uns: 'log1p', 'hvg'\n"
     ]
    }
   ],
   "source": [
    "sc.pp.normalize_total(adata_cm)\n",
    "sc.pp.log1p(adata_cm)\n",
    "sc.pp.highly_variable_genes(adata_cm, n_top_genes=2000, batch_key='domain_id', inplace=False, subset=True)\n",
    "up.batch_scale(adata_cm)\n",
    "print(adata_cm)"
   ]
  },
  {
   "cell_type": "code",
   "execution_count": 7,
   "id": "df68f44d",
   "metadata": {},
   "outputs": [
    {
     "name": "stdout",
     "output_type": "stream",
     "text": [
      "AnnData object with n_obs × n_vars = 2518 × 2000\n",
      "    obs: 'domain_id', 'source'\n",
      "    var: 'highly_variable', 'means', 'dispersions', 'dispersions_norm'\n",
      "    uns: 'log1p', 'hvg'\n"
     ]
    }
   ],
   "source": [
    "sc.pp.normalize_total(spot)\n",
    "sc.pp.log1p(spot)\n",
    "sc.pp.highly_variable_genes(spot, n_top_genes=2000, inplace=False, subset=True)\n",
    "up.batch_scale(spot)\n",
    "print(spot)"
   ]
  },
  {
   "cell_type": "code",
   "execution_count": 8,
   "id": "16255b19",
   "metadata": {},
   "outputs": [
    {
     "name": "stdout",
     "output_type": "stream",
     "text": [
      "AnnData object with n_obs × n_vars = 100064 × 2000\n",
      "    obs: 'cell_type', 'domain_id', 'source'\n",
      "    var: 'gene_ids', 'feature_types', 'highly_variable', 'means', 'dispersions', 'dispersions_norm'\n",
      "    uns: 'log1p', 'hvg'\n"
     ]
    }
   ],
   "source": [
    "sc.pp.normalize_total(rna)\n",
    "sc.pp.log1p(rna)\n",
    "sc.pp.highly_variable_genes(rna, n_top_genes=2000, inplace=False, subset=True)\n",
    "up.batch_scale(rna)\n",
    "print(rna)"
   ]
  },
  {
   "cell_type": "code",
   "execution_count": 9,
   "id": "f3ef9c7e",
   "metadata": {},
   "outputs": [
    {
     "name": "stderr",
     "output_type": "stream",
     "text": [
      "... storing 'source' as categorical\n",
      "... storing 'cell_type' as categorical\n",
      "... storing 'source' as categorical\n"
     ]
    }
   ],
   "source": [
    "spot.write('spot_processed.h5ad', compression='gzip')\n",
    "rna.write('rna_processed.h5ad', compression='gzip')\n",
    "adata_cm.write('rna_and_spot.h5ad', compression='gzip')"
   ]
  },
  {
   "cell_type": "code",
   "execution_count": 10,
   "id": "9d86803a",
   "metadata": {},
   "outputs": [
    {
     "name": "stdout",
     "output_type": "stream",
     "text": [
      "Dataset 0: SPOT\n",
      "AnnData object with n_obs × n_vars = 2518 × 2000\n",
      "    obs: 'domain_id', 'source'\n",
      "    var: 'highly_variable', 'means', 'dispersions', 'dispersions_norm'\n",
      "    uns: 'log1p', 'hvg'\n",
      "Dataset 1: RNA\n",
      "AnnData object with n_obs × n_vars = 100064 × 2000\n",
      "    obs: 'cell_type', 'domain_id', 'source'\n",
      "    var: 'gene_ids', 'feature_types', 'highly_variable', 'means', 'dispersions', 'dispersions_norm'\n",
      "    uns: 'log1p', 'hvg'\n",
      "Reference dataset is dataset 1\n",
      "\n",
      "\n",
      "Data with common HVG\n",
      "AnnData object with n_obs × n_vars = 102582 × 2000\n",
      "    obs: 'domain_id', 'source', 'cell_type'\n",
      "    var: 'gene_ids-1', 'feature_types-1', 'highly_variable', 'means', 'dispersions', 'dispersions_norm', 'highly_variable_nbatches', 'highly_variable_intersection'\n",
      "    uns: 'log1p', 'hvg'\n",
      "\n",
      "\n",
      "Warning! Saving Optimal Transport plan needs extra 4.03 GB memory, please set save_OT=False if no enough memory!\n",
      "float32\n",
      "Size of transport plan between datasets 0 and 1: (2518, 100064)\n"
     ]
    },
    {
     "name": "stderr",
     "output_type": "stream",
     "text": [
      "Epochs: 100%|███████████████████████████████████████████| 75/75 [12:05<00:00,  9.67s/it, recloss=409.33,klloss=6.93,otloss=10.03]\n"
     ]
    }
   ],
   "source": [
    "adata, OT = up.Run(adatas=[spot,rna], adata_cm=adata_cm, save_OT=True)"
   ]
  },
  {
   "cell_type": "code",
   "execution_count": 12,
   "id": "b69e42ba",
   "metadata": {},
   "outputs": [],
   "source": [
    "name_idx = adata_cm[adata_cm.obs['source']=='SPOT'].obs_names\n",
    "name_col = adata_cm[adata_cm.obs['source']=='RNA'].obs_names\n",
    "OT_pd = pd.DataFrame(OT[0], index=name_idx, columns=name_col)\n",
    "OT_pd.to_csv('OT_BRCA.txt', sep='\\t')"
   ]
  },
  {
   "cell_type": "code",
   "execution_count": null,
   "id": "98ab8a02",
   "metadata": {},
   "outputs": [],
   "source": []
  }
 ],
 "metadata": {
  "kernelspec": {
   "display_name": "Python 3 (ipykernel)",
   "language": "python",
   "name": "python3"
  },
  "language_info": {
   "codemirror_mode": {
    "name": "ipython",
    "version": 3
   },
   "file_extension": ".py",
   "mimetype": "text/x-python",
   "name": "python",
   "nbconvert_exporter": "python",
   "pygments_lexer": "ipython3",
   "version": "3.8.13"
  }
 },
 "nbformat": 4,
 "nbformat_minor": 5
}
