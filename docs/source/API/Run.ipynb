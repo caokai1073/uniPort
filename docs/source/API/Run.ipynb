{
 "cells": [
  {
   "cell_type": "markdown",
   "id": "4678fc0c",
   "metadata": {},
   "source": [
    "## uniport.Run\n",
    "\n",
    "<font color='Dodgerblue'> **Function for data integration** </font>"
   ]
  },
  {
   "cell_type": "markdown",
   "id": "ac4bbf53",
   "metadata": {},
   "source": [
    "**uniPort.Run**(adatas=None, adata_cm=None, mode='h', lambda_s=0.5, labmda_recon=1.0, lambda_kl=0.5, lambda_ot=1.0, max_iteration=30000, ref_id=None, save_OT=False, out='latent', label_weight=None, reg=0.1, reg_m=1.0, batch_size=256, lr=2e-4, enc=None, gpu=0, Prior=None, loss_type='BCE', outdir='output/', input_id=0, pred_id=1, seed=124, batch_key='domain_id', source_name='source', rep_celltype='cell_type', umap=False, assess=False, show=False)"
   ]
  },
  {
   "cell_type": "markdown",
   "id": "d7a737bf",
   "metadata": {},
   "source": [
    "<font color='Dodgerblue'> **Key parameters includes:** </font>\n",
    "\n",
    "+ **adatas**: List of AnnData matrices for each dataset.\n",
    "+ **adata_cm**: AnnData matrix containing common genes from different datasets.\n",
    "+ **mode**: Choose from ['h', 'v', 'd'] If 'mode=h', integrate data with common genes (Horizontal integration). If 'mode=v', integrate data profiled from the same cells (Vertical integration). If 'mode=d', inetrgate data without common genes (Diagonal integration). Default: 'h'.\n",
    "+ **lambda_s**: balanced parameter for common and specific genes. Default: 0.5\n",
    "+ **lambda_recon**: balanced parameter for reconstruct term. Default: 1.0\n",
    "+ **lambda_kl**: balanced parameter for KL divergence. Default: 0.5\n",
    "+ **lambda_ot**: balanced parameter for OT. Default: 1.0\n",
    "+ **max_iteration**: max iterations for training. Training one batch_size samples is one iteration. Default: 30000\n",
    "+ **ref_id**: id of reference dataset. Default: The domain_id of last dataset\n",
    "+ **save_OT**: if True, output a global OT plan. Need more memory. Default: False\n",
    "+ **out**: output of uniPort. Choose from ['latent', 'project', 'predict']. If out=='latent', train the network and output cell embeddings. If out=='project', project data into the latent space and output cell embeddings. If out=='predict', project data into the latent space and output cell embeddings through a specified decoder. Default: 'latent'\n",
    "\n",
    "\n",
    "\n",
    "<font color='Dodgerblue'>**Other parameters include:**</font>\n",
    "\n",
    "+ **label_weight**: prior-guided weighted vectors. Default: None\n",
    "+ **reg**: entropy regularization parameter in OT. Default: 0.1\n",
    "+ **reg_m**: unbalanced OT parameter. Larger values means more balanced OT. Default: 1.0\n",
    "+ **batch_size**: number of samples per batch to load. Default: 256\n",
    "+ **lr**: learning rate. Default: 2e-4\n",
    "+ **enc**: structure of encoder. For example: enc=[['fc', '1024', 1, 'relu'], ['fc', 16, '', '']] means that the encoder contains two layers. The first layer is fully connected with 1024 neurons, a [DSBN](https://openaccess.thecvf.com/content_CVPR_2019/papers/Chang_Domain-Specific_Batch_Normalization_for_Unsupervised_Domain_Adaptation_CVPR_2019_paper.pdf) and activative function `relu`. The second layer is fully connected with 16 neurons without DSBN or activative function.\n",
    "+ **gpu**: index of GPU to use if GPU is available. Default: 0\n",
    "+ **Prior**: prior correspondence matrix. Default: None\n",
    "+ **loss_type**: type of loss function. Choose from ['BCE', 'MSE', 'L1']. Default: 'BCE'\n",
    "+ **outdir**: output directory. Default: 'output/'\n",
    "+ **input_id**: only used when mode=='d' and out=='predict' to choose a encoder to project data. Default: 0\n",
    "+ **pred_id**: only used when out=='predict' to choose a decoder to predict data. Default: 1\n",
    "+ **seed**: random seed for torch and numpy. Default: 124\n",
    "+ **batch_key**: name of batch in AnnData. Default: domain_id\n",
    "+ **source_name**: name of source in AnnData. Default: source\n",
    "+ **rep_celltype**: names of cell-type annotation in AnnData. Default: 'cell_type'\n",
    "+ **umap**: if True, perform UMAP for visualization. Default: False\n",
    "+ **assess**: if True, calculate the entropy_batch_mixing score and silhouette score to evaluate integration results. Default: False\n",
    "+ **show**: if True, show the UMAP visualization of latent space. Default: False"
   ]
  },
  {
   "cell_type": "markdown",
   "id": "1ff1235e",
   "metadata": {},
   "source": [
    "<font color='Dodgerblue'> **Example**</font>"
   ]
  },
  {
   "cell_type": "markdown",
   "id": "83f597be",
   "metadata": {},
   "source": [
    "```Python\n",
    "# With dataset specific genes. HVG: highly variable genes\n",
    "import uniport as up\n",
    "import scanpy as sc\n",
    "adata1 = sc.read_h5ad('adata1.h5ad') # preprocessed data with data1 specific HVG\n",
    "adata2 = sc.read_h5ad('adata2.h5ad') # preprocessed data with data2 specific HVG, as reference data\n",
    "adata_cm = sc.read_h5ad('adata_cm.h5ad') # preprocesssed data with common HVG\n",
    "\n",
    "# mode 'h'\n",
    "adata = up.Run(adatas=[adata1, adata2], adata_cm=adata_cm)\n",
    "# mode 'h', output OT matrix\n",
    "adata, OT = up.Run(adatas=[adata1, adata2], adata_cm=adata_cm, save_OT=True)\n",
    "# mode 'h', without dataset specific HVG\n",
    "adata = up.Run(adata_cm=adata_cm)\n",
    "\n",
    "# mode 'd'\n",
    "adata = up.Run(adatas=[adata1, adata2], mode='d')\n",
    "\n",
    "# mode 'v'\n",
    "adata = up.Run(adatas=[adata1, adata2], mode='v')\n",
    "\n",
    "```"
   ]
  }
 ],
 "metadata": {
  "kernelspec": {
   "display_name": "Python 3 (ipykernel)",
   "language": "python",
   "name": "python3"
  },
  "language_info": {
   "codemirror_mode": {
    "name": "ipython",
    "version": 3
   },
   "file_extension": ".py",
   "mimetype": "text/x-python",
   "name": "python",
   "nbconvert_exporter": "python",
   "pygments_lexer": "ipython3",
   "version": "3.8.10"
  }
 },
 "nbformat": 4,
 "nbformat_minor": 5
}
