{
 "cells": [
  {
   "cell_type": "markdown",
   "id": "b2793b80",
   "metadata": {},
   "source": [
    "## uniport.Run\n",
    "\n",
    "<font color='Dodgerblue'> ***Function for data integration*** </font>"
   ]
  },
  {
   "cell_type": "markdown",
   "id": "8b55e17b",
   "metadata": {},
   "source": [
    "```Python\n",
    "adata = up.Run(adatas=None, adata_cm=None, mode='h', lambda_s=0.5, labmda_recon=1.0, lambda_kl=0.5, lambda_ot=1.0, reg=0.1, reg_m=1.0, batch_size=256, lr=2e-4, max_iteration=30000, gpu=0, Prior=None, label_weight=None, ref_id=None, save_OT=False, use_specific=True, loss_type='BCE', outdir='output/', out='latent', input_id=0, pred_id=1, seed=124, enc=None, dec=None, batch_key='domain_id', source_name='source', rep_celltype='cell_type', umap=False, assess=False, show=False)\n",
    "```"
   ]
  },
  {
   "cell_type": "markdown",
   "id": "8347eb92",
   "metadata": {},
   "source": [
    "<font color='Dodgerblue'> ***The key parameters includes:*** </font>\n",
    "\n",
    "+ **adatas**\\\n",
    "List of AnnData matrices for each dataset.\n",
    "+ **adata_cm**\\\n",
    "    AnnData matrix containing common genes from different datasets.\n",
    "+ **lambda_s**\\\n",
    "    Balanced parameter for common and specific genes. Default: 0.5\n",
    "+ **lambda_recon**\\\n",
    "    Balanced parameter for reconstruct term. Default: 1.0\n",
    "+ **lambda_kl**\\\n",
    "    Balanced parameter for KL divergence. Default: 0.5\n",
    "+ **lambda_ot**\\\n",
    "    Balanced parameter for OT. Default: 1.0\n",
    "+ **max_iteration**\\\n",
    "    Max iterations for training. Training one batch_size samples is one iteration. Default: 30000\n",
    "+ **ref_id**\\\n",
    "    Id of reference dataset. Default: The domain_id of last dataset\n",
    "+ **save_OT**\\\n",
    "    If True, output a global OT plan. Need more memory. Default: False\n",
    "+ **out**\\\n",
    "    Output of uniPort. Choose from ['latent', 'project', 'predict'].\\\n",
    "    If out=='latent', train the network and output cell embeddings.\\\n",
    "    If out=='project', project data into the latent space and output cell embeddings. \\\n",
    "    If out=='predict', project data into the latent space and output cell embeddings through a specified decoder. \\\n",
    "    Default: 'latent'.\n",
    "\n",
    "\n",
    "\n",
    "<font color='Dodgerblue'>***The other parameters include:***</font>\n",
    "\n",
    "+ **label_weight**\\\n",
    "    Prior-guided weighted vectors. Default: None\n",
    "+ **reg**\\\n",
    "    Entropy regularization parameter in OT. Default: 0.1\n",
    "+ **reg_m**\\\n",
    "    Unbalanced OT parameter. Larger values means more balanced OT. Default: 1.0\n",
    "+ **batch_size**\\\n",
    "    Number of samples per batch to load. Default: 256\n",
    "+ **lr**\\\n",
    "    Learning rate. Default: 2e-4\n",
    "+ **seed**\\\n",
    "    Random seed for torch and numpy. Default: 124\n",
    "+ **gpu**\\\n",
    "    Index of GPU to use if GPU is available. Default: 0\n",
    "+ **Prior**\\\n",
    "    Prior correspondence matrix. Default: None\n",
    "+ **input_id**\\\n",
    "    Only used when mode=='d' and out=='predict' to choose a encoder to project data. Default: 0\n",
    "+ **enc**\\\n",
    "    structure of encoder. For example: enc=[['fc', '1024', 1, 'relu'], ['fc', 16, '', '']] means that the encoder contains two layers. The first layer is fully connected with 1024 neurons, a [DSBN](https://openaccess.thecvf.com/content_CVPR_2019/papers/Chang_Domain-Specific_Batch_Normalization_for_Unsupervised_Domain_Adaptation_CVPR_2019_paper.pdf) and activative function `relu`. The second layer is fully connected with 16 neurons without DSBN or activative function.\n",
    "+ **mode**\\\n",
    "    Choose from ['h', 'v', 'd']\\\n",
    "    If 'h', integrate data with common genes (Horizontal integration)\\\n",
    "    If 'v', integrate data profiled from the same cells (Vertical integration)\\\n",
    "    If 'd', inetrgate data without common genes (Diagonal integration)\\\n",
    "    Default: 'h'.\n",
    "+ **pred_id**\\\n",
    "    Only used when out=='predict' to choose a decoder to predict data. Default: 1\n",
    "+ **source_name**\\\n",
    "    Name of source in AnnData. Default: source\n",
    "+ **batch_key**\\\n",
    "    Name of batch in AnnData. Default: domain_id\n",
    "+ **outdir**\\\n",
    "    Output directory. Default: 'output/'\n",
    "+ **rep_celltype**\\\n",
    "    Names of cell-type annotation in AnnData. Default: 'cell_type'\n",
    "+ **umap**\\\n",
    "    If True, perform UMAP for visualization. Default: False\n",
    "+ **assess**\\\n",
    "    If True, calculate the entropy_batch_mixing score and silhouette score to evaluate integration results. Default: False\n",
    "+ **show**\\\n",
    "    If True, show the UMAP visualization of latent space. Default: False"
   ]
  },
  {
   "cell_type": "markdown",
   "id": "4cc6ff92",
   "metadata": {},
   "source": [
    "<font color='Dodgerblue'> ***Example***</font>"
   ]
  },
  {
   "cell_type": "markdown",
   "id": "39213b59",
   "metadata": {},
   "source": [
    "```Python\n",
    "# With dataset specific genes. HVG: highly variable genes\n",
    "import uniport as up\n",
    "import scanpy as sc\n",
    "adata1 = sc.read_h5ad('adata1.h5ad') # preprocessed data with data1 specific HVG\n",
    "adata2 = sc.read_h5ad('adata2.h5ad') # preprocessed data with data2 specific HVG, as reference data\n",
    "adata_cm = sc.read_h5ad('adata_cm.h5ad') # preprocesssed data with common HVG\n",
    "\n",
    "# mode 'h'\n",
    "adata = up.Run(adatas=[adata1, adata2], adata_cm=adata_cm)\n",
    "# mode 'h', output OT matrix\n",
    "adata, OT = up.Run(adatas=[adata1, adata2], adata_cm=adata_cm, save_OT=True)\n",
    "# mode 'h', without dataset specific HVG\n",
    "adata = up.Run(adata_cm=adata_cm)\n",
    "\n",
    "# mode 'd'\n",
    "adata = up.Run(adatas=[adata1, adata2], mode='d')\n",
    "\n",
    "# mode 'v'\n",
    "adata = up.Run(adatas=[adata1, adata2], mode='v')\n",
    "\n",
    "```"
   ]
  },
  {
   "cell_type": "code",
   "execution_count": null,
   "id": "f9166841",
   "metadata": {},
   "outputs": [],
   "source": []
  }
 ],
 "metadata": {
  "kernelspec": {
   "display_name": "Python 3 (ipykernel)",
   "language": "python",
   "name": "python3"
  },
  "language_info": {
   "codemirror_mode": {
    "name": "ipython",
    "version": 3
   },
   "file_extension": ".py",
   "mimetype": "text/x-python",
   "name": "python",
   "nbconvert_exporter": "python",
   "pygments_lexer": "ipython3",
   "version": "3.8.10"
  }
 },
 "nbformat": 4,
 "nbformat_minor": 5
}
