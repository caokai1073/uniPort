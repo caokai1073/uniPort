{
 "cells": [
  {
   "cell_type": "markdown",
   "id": "c215c8d9",
   "metadata": {},
   "source": [
    "## uniport.load_file\n",
    "\n",
    "**Function for data loading**"
   ]
  },
  {
   "cell_type": "markdown",
   "id": "52488a0b",
   "metadata": {},
   "source": [
    "**uniport.load_file**(path)"
   ]
  },
  {
   "cell_type": "code",
   "execution_count": null,
   "id": "64359786",
   "metadata": {},
   "outputs": [],
   "source": []
  }
 ],
 "metadata": {
  "kernelspec": {
   "display_name": "Python 3 (ipykernel)",
   "language": "python",
   "name": "python3"
  },
  "language_info": {
   "codemirror_mode": {
    "name": "ipython",
    "version": 3
   },
   "file_extension": ".py",
   "mimetype": "text/x-python",
   "name": "python",
   "nbconvert_exporter": "python",
   "pygments_lexer": "ipython3",
   "version": "3.8.10"
  }
 },
 "nbformat": 4,
 "nbformat_minor": 5
}
